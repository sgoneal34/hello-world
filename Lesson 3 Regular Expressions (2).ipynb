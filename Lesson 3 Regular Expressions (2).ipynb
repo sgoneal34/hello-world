{
 "cells": [
  {
   "cell_type": "code",
   "execution_count": 1,
   "metadata": {},
   "outputs": [
    {
     "name": "stdout",
     "output_type": "stream",
     "text": [
      "restriction site found!\n"
     ]
    }
   ],
   "source": [
    "#Regular Expressions\n",
    "\n",
    "import re #module that deals with regular expressions\n",
    "\n",
    "#How to search for various regular expressions using this module\n",
    "#re.search(pattern, string)\n",
    "\n",
    "#re.search() is a true/false function that determines \n",
    "#whether or not a pattern appears somewhere in a string.\n",
    "\n",
    "#The first argument is the pattern that you want to search \n",
    "#for, and the second argument is the string that you want \n",
    "#to search in.\n",
    "\n",
    "#Example, searching for a restriction site cut site in a dna sequence:\n",
    "dna = \"ATCGCGAATTCAC\"\n",
    "if re.search(r\"GAATTC\", dna):\n",
    "    print(\"restriction site found!\")"
   ]
  },
  {
   "cell_type": "code",
   "execution_count": 34,
   "metadata": {
    "collapsed": true
   },
   "outputs": [
    {
     "name": "stdout",
     "output_type": "stream",
     "text": [
      "WHY THO\n"
     ]
    }
   ],
   "source": [
    "#What if a restriction enzyme cut site has two different sequences?\n",
    "\n",
    "dna = \"ATCGCGAATTCAC\"\n",
    "if re.search(r\"GGACC\", dna) or re.search(r\"GGTCC\", dna):\n",
    "    print(\"restriction site found!\")\n",
    "else:\n",
    "    print(\"WHY THO\")"
   ]
  },
  {
   "cell_type": "code",
   "execution_count": 32,
   "metadata": {
    "collapsed": true
   },
   "outputs": [
    {
     "name": "stdout",
     "output_type": "stream",
     "text": [
      "restriction site found!\n"
     ]
    }
   ],
   "source": [
    "#OR we can use alternation!\n",
    "\n",
    "#To represent a number of different alternatives,\n",
    "#we write the alternatives inside parentheses \n",
    "#separated by a pipe character. \n",
    "\n",
    "#2 diffeerent characters allowed: GG(A|T)CC\n",
    "\n",
    "dna = \"ATCGCGGACCAC\"\n",
    "if re.search(r\"GG(A|T)CC\", dna):\n",
    "    print(\"restriction site found!\")\n"
   ]
  },
  {
   "cell_type": "code",
   "execution_count": 27,
   "metadata": {},
   "outputs": [],
   "source": [
    "#Multiple options:\n",
    "#GC(A|T|G|C)GC\n",
    "#OR\n",
    "#GC[ATGC]GC\n",
    "\n",
    "dna = \"ATCGCGAATTCAC\"\n",
    "if re.search(r\"GC[ATGC]GC\", dna):\n",
    "    print(\"restriction site found!\")\n",
    "    \n",
    "#Different types of quantifiers   \n",
    "#GAT?C - one or zero T will find GATC and/or GAC\n",
    "#GGGA+TTT - one or more A's at the 4th position\n",
    "#GGGA*T - zero or more A's at the 4th position\n",
    "#GA{5}T - exactly 5 A's at the 2nd position\n",
    "#GA{2,4}T - A range of 2 to 4 A's at the 2nd position\n",
    "#A{3,} - 3 or more A's \n",
    "#G{,7} - 0 to 7 G's\n",
    "\n",
    "#Position\n",
    "# ^ = start of string\n",
    "#$ = end of string"
   ]
  },
  {
   "cell_type": "code",
   "execution_count": null,
   "metadata": {},
   "outputs": [],
   "source": [
    "#Challenge 1\n",
    "#What are all the different ways you can \n",
    "#describe the following sequence\n",
    "#using regular expressions\n",
    "\n",
    "#AvaII enzyme = GGACC or GGTCC\n",
    "\n",
    "#Results: \n",
    "#1)GG(A|T)CC\n",
    "#2)G{2}(A|T)C{2}\n",
    "#3)GG[AT]CC\n",
    "#4)(GGACC|GGTCC)\n",
    "#5)(GGA|GGT)CC\n",
    "\n",
    "#There are 5...or more total ways to describe this in a regex.\n"
   ]
  },
  {
   "cell_type": "code",
   "execution_count": null,
   "metadata": {},
   "outputs": [],
   "source": [
    "#Challenge 2\n",
    "#Write a regular expression that can match\n",
    "#all of the following conditions\n",
    "\n",
    "#Reading the pattern from left to right, it will match:\n",
    "\n",
    "#an AUG start codon at the beginning of the sequence\n",
    "#followed by between 30 and 1000 bases which can be A, U, G or C\n",
    "#followed by a poly-A tail of between 5 and 10 bases at the end of the sequence"
   ]
  },
  {
   "cell_type": "code",
   "execution_count": 2,
   "metadata": {},
   "outputs": [
    {
     "name": "stdout",
     "output_type": "stream",
     "text": [
      "restriction site found!\n"
     ]
    }
   ],
   "source": [
    "#Often we want to find out not only if a regular expression matched\n",
    "#our terms, but we want to print out the matching sequence\n",
    "\n",
    "#Remember the re.search function provides a true or false output\n",
    "#but it is more acurately storing a match object (the result of the regular expression)\n",
    "\n",
    "import re\n",
    "\n",
    "dna = \"ATCGGGACCAC\"\n",
    "if re.search(r\"GGACC\", dna) or re.search(r\"GGTCC\", dna):\n",
    "    print(\"restriction site found!\")\n",
    "else:\n",
    "    print(\"WHY THO\")\n"
   ]
  },
  {
   "cell_type": "code",
   "execution_count": 5,
   "metadata": {},
   "outputs": [
    {
     "name": "stdout",
     "output_type": "stream",
     "text": [
      "restriction site found:\n",
      "GGACC\n"
     ]
    }
   ],
   "source": [
    "#We can use the group function to store the result of the regular expression\n",
    "\n",
    "dna = \"GGACCATCGGGGTCCC\"\n",
    "match = re.search(r\"GGACC\", dna) or re.search(r\"GGTCC\", dna)\n",
    "\n",
    "if match:\n",
    "    print(\"restriction site found:\")\n",
    "    matching_sequence = match.group()\n",
    "    print(matching_sequence)\n",
    "    \n",
    "    #What happens if the sequence is found twice in your dna sequence?\n"
   ]
  },
  {
   "cell_type": "code",
   "execution_count": 12,
   "metadata": {
    "collapsed": true
   },
   "outputs": [
    {
     "name": "stdout",
     "output_type": "stream",
     "text": [
      "genus is Homo,species is sapiens\n"
     ]
    }
   ],
   "source": [
    "#What if we want to find multiple patterns?\n",
    "\n",
    "#using a period in a regular expression = any character\n",
    "\n",
    "scientific_name = \"Homo sapiens\"\n",
    "match = re.search(\"(.+) (.+)\", scientific_name)\n",
    "\n",
    "if match:\n",
    "    genus = match.group(1)\n",
    "    species = match.group(2)\n",
    "    print (\"genus is \" + genus + \",species is \" + species)"
   ]
  },
  {
   "cell_type": "code",
   "execution_count": 7,
   "metadata": {},
   "outputs": [
    {
     "name": "stdout",
     "output_type": "stream",
     "text": [
      "restriction enzyme site found!\n",
      "at position 9\n"
     ]
    }
   ],
   "source": [
    "#Getting match positions\n",
    "\n",
    "dna = \"GGACCATCGGGTCCAC\" \n",
    "m = re.search(r\"GGTCC\", dna) \n",
    "\n",
    "if m: \n",
    "    print(\"restriction enzyme site found!\") \n",
    "    print(\"at position \" + str(m.start()))\n",
    "    \n",
    "    #How do you think you find the end?"
   ]
  },
  {
   "cell_type": "code",
   "execution_count": 21,
   "metadata": {
    "collapsed": true
   },
   "outputs": [
    {
     "name": "stdout",
     "output_type": "stream",
     "text": [
      "restriction enzyme site found!\n",
      "at position 0GGACC\n",
      "restriction enzyme site found!\n",
      "at position 9GGACC\n"
     ]
    }
   ],
   "source": [
    "#Multiple Matches\n",
    "\n",
    "# To process multiple matches, we need to switch to re.finditer()\n",
    "#, which returns a list of match objects which we can process in a loop:\n",
    "\n",
    "#Getting match positions\n",
    "\n",
    "dna = \"GGACCATCGGGACCAC\" \n",
    "matches = re.finditer(r\"GGACC\", dna)\n",
    "\n",
    "for m in matches: \n",
    "    print(\"restriction enzyme site found!\") \n",
    "    print(\"at position \" + str(m.start()))\n",
    "    \n",
    "    \n",
    "    #How do you think you find the end?\n",
    "    #What if I want to print out the matching sequence too?"
   ]
  },
  {
   "cell_type": "code",
   "execution_count": 9,
   "metadata": {},
   "outputs": [
    {
     "name": "stdout",
     "output_type": "stream",
     "text": [
      "['ATTATAT', 'AAATTATA']\n"
     ]
    }
   ],
   "source": [
    "#Getting multiple matches as strings\n",
    "\n",
    "dna = \"ACTGCATTATATCGTACGAAATTATACGCGCG\"\n",
    "\n",
    "matches = re.finditer(r\"[AT]{6,}\", dna) \n",
    "\n",
    "result = [] \n",
    "for m in matches: \n",
    "    result.append(m.group()) \n",
    "\n",
    "print(result)"
   ]
  },
  {
   "cell_type": "code",
   "execution_count": 22,
   "metadata": {},
   "outputs": [
    {
     "name": "stdout",
     "output_type": "stream",
     "text": [
      "['ATTATAT', 'AAATTATA']\n"
     ]
    }
   ],
   "source": [
    "#Or use findall function - this function takes the pattern and the strings as arguments, and \n",
    "#returns the list as strings\n",
    "dna = \"ACTGCATTATATCGTACGAAATTATACGCGCG\" \n",
    "result = re.findall(r\"[AT]{6,}\", dna) \n",
    "print(result)"
   ]
  },
  {
   "cell_type": "code",
   "execution_count": 10,
   "metadata": {},
   "outputs": [
    {
     "name": "stdout",
     "output_type": "stream",
     "text": [
      "['', 'ATCG', 'AC']\n"
     ]
    }
   ],
   "source": [
    "#Splitting a string using a regular expression\n",
    "#use the split function, the first argument is the pattern and the \n",
    "#second argument is the string to be split\n",
    "#notice the bits of string that matched the pattern are excluded \n",
    "#from the output. What if we want to \n",
    "#add it back?\n",
    "\n",
    "dna = \"GGACCATCGGGACCAC\" \n",
    "runs = re.split(r\"GGACC\", dna)\n",
    "print(runs)"
   ]
  },
  {
   "cell_type": "code",
   "execution_count": 20,
   "metadata": {},
   "outputs": [
    {
     "name": "stdout",
     "output_type": "stream",
     "text": [
      "Number of cuts:2\n",
      "SEQUENCE:482\n",
      "SEQUENCE:1525\n",
      "ATGGCAATAACCCCCCGTTTCTACTTCTAGAGGAGAAAAGTATTGACATGAGCGCTCCCGGCACAAGGGCCAAAGAAGTCTCCAATTTCTTATTTCCGAATGACATGCGTCTCCTTGCGGGTAAATCACCGACCGCAATTCATAGAAGCCTGGGGGAACAGATAGGTCTAATTAGCTTAAGAGAGTAAATCCTGGGATCATTCAGTAGTAACCATAAACTTACGCTGGGGCTTCTTCGGCGGATTTTTACAGTTACCAACCAGGAGATTTGAAGTAAATCAGTTGAGGATTTAGCCGCGCTATCCGGTAATCTCCAAATTAAAACATACCGTTCCATGAAGGCTAGAATTACTTACCGGCCTTTTCCATGCCTGCGCTATACCCCCCCACTCTCCCGCTTATCCGTCCGAGCGGAGGCAGTGCGATCCTCCGTTAAGATATTCTTACGTGTGACGTAGCTATGTATTTTGCAGAGCTGGCGAA\n",
      "CGCGTTGAACACTTCACAGATGGTAGGGATTCGGGTAAAGGGCGTATAATTGGGGACTAACATAGGCGTAGACTACGATGGCGCCAACTCAATCGCAGCTCGAGCGCCCTGAATAACGTACTCATCTCAACTCATTCTCGGCAATCTACCGAGCGACTCGATTATCAACGGCTGTCTAGCAGTTCTAATCTTTTGCCAGCATCGTAATAGCCTCCAAGAGATTGATGATAGCTATCGGCACAGAACTGAGACGGCGCCGATGGATAGCGGACTTTCGGTCAACCACAATTCCCCACGGGACAGGTCCTGCGGTGCGCATCACTCTGAATGTACAAGCAACCCAAGTGGGCCGAGCCTGGACTCAGCTGGTTCCTGCGTGAGCTCGAGACTCGGGATGACAGCTCTTTAAACATAGAGCGGGGGCGTCGAACGGTCGAGAAAGTCATAGTACCTCGGGTACCAACTTACTCAGGTTATTGCTTGAAGCTGTACTATTTTAGGGGGGGAGCGCTGAAGGTCTCTTCTTCTCATGACTGAACTCGCGAGGGTCGTGAAGTCGGTTCCTTCAATGGTTAAAAAACAAAGGCTTACTGTGCGCAGAGGAACGCCCATCTAGCGGCTGGCGTCTTGAATGCTCGGTCCCCTTTGTCATTCCGGATTAATCCATTTCCCTCATTCACGAGCTTGCGAAGTCTACATTGGTATATGAATGCGACCTAGAAGAGGGCGCTTAAAATTGGCAGTGGTTGATGCTCTAAACTCCATTTGGTTTACTCGTGCATCACCGCGATAGGCTGACAAAGGTTTAACATTGAATAGCAAGGCACTTCCGGTCTCAATGAACGGCCGGGAAAGGTACGCGCGCGGTATGGGAGGATCAAGGGGCCAATAGAGAGGCTCCTCTCTCACTCGCTAGGAGGCAAATGTAAAACAATGGTTACTGCATCGATACATAAAACATGTCCATCGGTTGCCCAAAGTGTTAAGTGTCTATCACCCCTAGGGCCGTTTCCCGCATATAAACGCCAGGTTGTATCCGCATTTGATGCTACCGTGGATGAGTCTGCGTCGAGCGCGCCGCACGAATGTTGCAATGTATTGCATGAGTAGGGTTGACTAAGAGCCGTTAGATGCGTCGCTGTACTAATAGTTGTCGACAGACCGTCGAGATTAGAAAATGGTACCAGCATTTTCGGAGGTTCTCTAACTAGTATGGATTGCGGTGTCTTCACTGTGCTGCGGCTACCCATCGCCTGAAATCCAGCTGGTGTCAAGCCATCCCCTCTCCGGGACGCCGCATGTAGTGAAACATATACGTTGCACGGGTTCACCGCGGTCCGTTCTGAGTCGACCAAGGACACAATCGAGCTCCGATCCGTACCCTCGACAAACTTGTACCCGACCCCCGGAGCTTGCCAGCTCCTCGGGTATCATGGAGCCTGTGGTTCATCGCGTCCGATATCAAACTTCGTCATGATAAAGTCCCCCCCTCGGGAGTACCAGAGAAGATGACTACTGAGTTGTGCGAT\n",
      "\n"
     ]
    }
   ],
   "source": [
    "#Challenge\n",
    "\n",
    "#Go to ensembl\n",
    "#Select Human\n",
    "#Search for BRCA1\n",
    "#Select first link - BRCA1 Human Gene\n",
    "#Click Show Transcript Table\n",
    "#Select following transcript - BRCA1-203 (Click the Transcript ID value - ENST00000357654.7)\n",
    "#On the left hand side under Sequence select cDNA\n",
    "#Scroll down a bit, under the transcript table select Download Sequence Button\n",
    "#choose FASTA Format\n",
    "#Deselect all (under settings)\n",
    "#Select Exons\n",
    "#Select Download \n",
    "\n",
    "import re\n",
    "\n",
    "file = open(\"dna.txt\", \"r\")\n",
    "\n",
    "for line in file:\n",
    "    mluI = re.split(r\"ACGCGT\", line)\n",
    "    print (\"Number of cuts:\"+str(len(mluI)))\n",
    "    for sequence in mluI:\n",
    "        print (\"SEQUENCE:\"+str(len(sequence)))\n",
    "        \n",
    "    print(mluI[0]+\"A\")\n",
    "    print(\"CGCGT\"+mluI[1])"
   ]
  },
  {
   "cell_type": "code",
   "execution_count": 2,
   "metadata": {},
   "outputs": [],
   "source": []
  },
  {
   "cell_type": "code",
   "execution_count": null,
   "metadata": {},
   "outputs": [],
   "source": []
  }
 ],
 "metadata": {
  "kernelspec": {
   "display_name": "Python 3",
   "language": "python",
   "name": "python3"
  },
  "language_info": {
   "codemirror_mode": {
    "name": "ipython",
    "version": 3
   },
   "file_extension": ".py",
   "mimetype": "text/x-python",
   "name": "python",
   "nbconvert_exporter": "python",
   "pygments_lexer": "ipython3",
   "version": "3.6.3"
  }
 },
 "nbformat": 4,
 "nbformat_minor": 2
}
